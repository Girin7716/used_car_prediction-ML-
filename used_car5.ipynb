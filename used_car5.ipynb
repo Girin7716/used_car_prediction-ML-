{
 "cells": [
  {
   "cell_type": "code",
   "execution_count": 1,
   "metadata": {},
   "outputs": [],
   "source": [
    "import numpy as np\n",
    "import pandas as pd\n",
    "import matplotlib.pyplot as plt\n",
    "import seaborn as sns\n",
    "from sklearn.preprocessing import LabelEncoder\n",
    "from sklearn.model_selection import train_test_split\n",
    "from sklearn.linear_model import LinearRegression\n",
    "from sklearn.metrics import accuracy_score, confusion_matrix, r2_score\n",
    "from sklearn.metrics import mean_absolute_error\n",
    "from sklearn import preprocessing\n",
    "from sklearn.model_selection import GridSearchCV\n",
    "from sklearn.ensemble import GradientBoostingRegressor\n",
    "from sklearn.ensemble import RandomForestClassifier\n",
    "from sklearn.ensemble import RandomForestRegressor\n",
    "\n",
    "import platform\n",
    "plt.rc('font',family='Malgun Gothic')"
   ]
  },
  {
   "cell_type": "code",
   "execution_count": 2,
   "metadata": {},
   "outputs": [],
   "source": [
    "# train data\n",
    "dummy_data = pd.read_csv('input/train.csv')\n",
    "# test data\n",
    "dummy_test = pd.read_csv('input/test.csv')"
   ]
  },
  {
   "cell_type": "code",
   "execution_count": 3,
   "metadata": {},
   "outputs": [
    {
     "name": "stdout",
     "output_type": "stream",
     "text": [
      "<class 'pandas.core.frame.DataFrame'>\n",
      "RangeIndex: 11769 entries, 0 to 11768\n",
      "Data columns (total 15 columns):\n",
      " #   Column     Non-Null Count  Dtype  \n",
      "---  ------     --------------  -----  \n",
      " 0   no         11769 non-null  int64  \n",
      " 1   모델명        11769 non-null  object \n",
      " 2   연월         11769 non-null  object \n",
      " 3   연식         11769 non-null  float64\n",
      " 4   연료         11769 non-null  object \n",
      " 5   주행거리       11769 non-null  object \n",
      " 6   인승         765 non-null    float64\n",
      " 7   최대출력(마력)   10644 non-null  float64\n",
      " 8   기통         8698 non-null   float64\n",
      " 9   최대토크(kgm)  10545 non-null  float64\n",
      " 10  구동방식       10808 non-null  object \n",
      " 11  자동수동       1313 non-null   object \n",
      " 12  국산/수입      11769 non-null  object \n",
      " 13  신차가(만원)    9544 non-null   float64\n",
      " 14  가격(만원)     11769 non-null  float64\n",
      "dtypes: float64(7), int64(1), object(7)\n",
      "memory usage: 1.3+ MB\n"
     ]
    }
   ],
   "source": [
    "dummy_data.info()"
   ]
  },
  {
   "cell_type": "code",
   "execution_count": 4,
   "metadata": {},
   "outputs": [
    {
     "name": "stdout",
     "output_type": "stream",
     "text": [
      "<class 'pandas.core.frame.DataFrame'>\n",
      "RangeIndex: 5789 entries, 0 to 5788\n",
      "Data columns (total 13 columns):\n",
      " #   Column     Non-Null Count  Dtype  \n",
      "---  ------     --------------  -----  \n",
      " 0   no         5789 non-null   int64  \n",
      " 1   모델명        5789 non-null   object \n",
      " 2   연월         5789 non-null   object \n",
      " 3   연식         5789 non-null   float64\n",
      " 4   연료         5789 non-null   object \n",
      " 5   주행거리       5789 non-null   object \n",
      " 6   인승         389 non-null    float64\n",
      " 7   최대출력(마력)   5237 non-null   float64\n",
      " 8   기통         4275 non-null   float64\n",
      " 9   최대토크(kgm)  5183 non-null   float64\n",
      " 10  구동방식       5312 non-null   object \n",
      " 11  자동수동       665 non-null    object \n",
      " 12  국산/수입      5789 non-null   object \n",
      "dtypes: float64(5), int64(1), object(7)\n",
      "memory usage: 588.1+ KB\n"
     ]
    }
   ],
   "source": [
    "dummy_test.info()"
   ]
  },
  {
   "cell_type": "code",
   "execution_count": 5,
   "metadata": {},
   "outputs": [
    {
     "data": {
      "text/plain": [
       "no               0\n",
       "모델명              0\n",
       "연월               0\n",
       "연식               0\n",
       "연료               0\n",
       "주행거리             0\n",
       "인승           11004\n",
       "최대출력(마력)      1125\n",
       "기통            3071\n",
       "최대토크(kgm)     1224\n",
       "구동방식           961\n",
       "자동수동         10456\n",
       "국산/수입            0\n",
       "신차가(만원)       2225\n",
       "가격(만원)           0\n",
       "dtype: int64"
      ]
     },
     "execution_count": 5,
     "metadata": {},
     "output_type": "execute_result"
    }
   ],
   "source": [
    "dummy_data.isnull().sum()\n",
    "# total -> 11769 \n",
    "# 인승, 자동수동 결측치가 많다"
   ]
  },
  {
   "cell_type": "code",
   "execution_count": 6,
   "metadata": {},
   "outputs": [
    {
     "data": {
      "text/plain": [
       "no              0\n",
       "모델명             0\n",
       "연월              0\n",
       "연식              0\n",
       "연료              0\n",
       "주행거리            0\n",
       "인승           5400\n",
       "최대출력(마력)      552\n",
       "기통           1514\n",
       "최대토크(kgm)     606\n",
       "구동방식          477\n",
       "자동수동         5124\n",
       "국산/수입           0\n",
       "dtype: int64"
      ]
     },
     "execution_count": 6,
     "metadata": {},
     "output_type": "execute_result"
    }
   ],
   "source": [
    "dummy_test.isnull().sum() #total 5789, 인승, 자동수동 NAN 많다"
   ]
  },
  {
   "cell_type": "code",
   "execution_count": 7,
   "metadata": {},
   "outputs": [
    {
     "data": {
      "text/plain": [
       "(5789, 9)"
      ]
     },
     "execution_count": 7,
     "metadata": {},
     "output_type": "execute_result"
    }
   ],
   "source": [
    "### 데이터 전처리\n",
    "# NaN 제거\n",
    "clean_data = dummy_data.copy(deep=True)\n",
    "clean_test = dummy_test.copy(deep=True)\n",
    "# no, 인승,자동수동, 신차가, 연월 제거\n",
    "clean_data.drop(columns=['no','인승','자동수동','신차가(만원)','연월'],inplace=True)\n",
    "clean_test.drop(columns=['no','인승','자동수동','연월'],inplace=True)\n",
    "\n",
    "clean_data = clean_data.reset_index(drop = True)\n",
    "clean_test = clean_test.reset_index(drop = True)\n",
    "#clean_data.shape #(11769,15) -> (11769, 10)\n",
    "clean_test.shape #(5789,12) -> (5789, 9)"
   ]
  },
  {
   "cell_type": "code",
   "execution_count": 8,
   "metadata": {},
   "outputs": [
    {
     "data": {
      "text/plain": [
       "97"
      ]
     },
     "execution_count": 8,
     "metadata": {},
     "output_type": "execute_result"
    }
   ],
   "source": [
    "# 차종류 수 정의\n",
    "len(np.unique(list(clean_data.모델명))) #1741\n",
    "\n",
    "# 차종에서 브랜드만 남기고 제거\n",
    "names = list(clean_data.모델명)\n",
    "for i in range(len(names)):\n",
    "    names[i] = names[i].split(' ',1)[0]\n",
    "clean_data.모델명 = names\n",
    "#clean_data.head() # ex> 현대, 기아 ...\n",
    "\n",
    "\n",
    "\n",
    "# 차종에서 브랜드만 남기고 제거\n",
    "test_names = list(clean_test.모델명)\n",
    "for i in range(len(test_names)):\n",
    "    test_names[i] = test_names[i].split(' ',1)[0]\n",
    "clean_test.모델명 = test_names\n",
    "#clean_test.head() # ex> 현대, 기아 ...\n",
    "len(np.unique(list(clean_data.모델명))) # 97\n",
    "#len(np.unique(list(clean_test.모델명))) # 58"
   ]
  },
  {
   "cell_type": "code",
   "execution_count": 9,
   "metadata": {},
   "outputs": [
    {
     "data": {
      "text/plain": [
       "array(['CT&T', 'EHLC', 'FNS', 'GM대우', 'JS', 'JY', 'KCM', 'PINKAR', '거화',\n",
       "       '경인', '글로밴', '기아', '나르미', '다솜', '다온', '다온포스', '대한', '동아', '두성',\n",
       "       '듀오탑', '드비앙', '라헬', '레이모', '로드윈', '르노삼성', '맥스', '메이저', '모터라이프',\n",
       "       '밴텍', '밴텍아톰', '벤텍', '벤텍R', '비에프엘', '삼일', '새한', '샤크', '성우', '세정',\n",
       "       '세진', '쉐보레', '스내일', '스타라인', '스타렉스', '스타모빌', '스타캠프', '스페이스', '신광수인',\n",
       "       '신화', '쌍용', '씨맥스', '씨티', '아리아모빌', '아트원', '어울림모터스', '에드윈', '에어밴',\n",
       "       '에이스', '에이스캠퍼', '영남', '오딧', '오딧세이', '오텍', '오토캠프', '우주', '위크캠프',\n",
       "       '유니버스', '유로스타', '유림', '익스플로러', '정립', '정박형', '제네시스', '제일모빌', '지바',\n",
       "       '지안', '창림', '카라원', '카스오토', '카인드아크', '캠핑나들이', '캠핑스토리', '캠핑카',\n",
       "       '캠핑카마스터', '컴바이컴', '케이씨', '케이씨노블', '케이원', '코반', '타이어프로', '타임에스',\n",
       "       '팀', '프리미엄', '하이렉스', '한신', '현대', '홍성', '힐랜더'], dtype='<U6')"
      ]
     },
     "execution_count": 9,
     "metadata": {},
     "output_type": "execute_result"
    }
   ],
   "source": [
    "np.unique(list(clean_data.모델명))"
   ]
  },
  {
   "cell_type": "code",
   "execution_count": 10,
   "metadata": {},
   "outputs": [],
   "source": [
    "#주행거리 object -> float\n",
    "clean_data.rename(columns={'가격(만원)':'가격'},inplace=True)\n",
    "distance_driven = list(clean_data.주행거리)\n",
    "distance_price = list(clean_data.가격)\n",
    "for i in range(len(names)):\n",
    "    \n",
    "    if '만' in distance_driven[i]:\n",
    "        if 'k' in distance_driven[i]:\n",
    "            distance_driven[i] = distance_driven[i][0:distance_driven[i].find('만')] + '0000'\n",
    "        elif 'ml' in distance_driven[i]:\n",
    "            distance_driven[i] = str(float(distance_driven[i][0:distance_driven[i].find('만')])*16093.44)\n",
    "    elif '천' in distance_driven[i]:\n",
    "        if 'k' in distance_driven[i]:\n",
    "            distance_driven[i] = distance_driven[i][0:distance_driven[i].find('천')] + '000'\n",
    "        elif 'ml' in distance_driven[i]:\n",
    "            distance_driven[i] = str(float(distance_driven[i][0:distance_driven[i].find('천')])*1609.344)\n",
    "    elif '등' in distance_driven[i]: # 가장 안좋은듯\n",
    "        distance_driven[i] = '100'+str(i%10)+'00'\n",
    "        #print(distance_driven[i])\n",
    "    elif 'k' in distance_driven[i]:\n",
    "        distance_driven[i] = distance_driven[i][0:distance_driven[i].find('k')]\n",
    "    elif 'ml' in distance_driven[i]:\n",
    "        distance_driven[i] = str(float(distance_driven[i][0:distance_driven[i].find('m')])*1.609344)\n",
    "        \n",
    "clean_data.주행거리 = distance_driven\n",
    "clean_data[\"주행거리\"] = clean_data[\"주행거리\"].astype(float)\n",
    "\n",
    "#clean_data.dtypes\n",
    "\n",
    "\n",
    "test_distance_driven = list(clean_test.주행거리)\n",
    "\n",
    "for i in range(len(test_names)):\n",
    "    if '만' in test_distance_driven[i]:\n",
    "        if 'k' in test_distance_driven[i]:\n",
    "            test_distance_driven[i] = test_distance_driven[i][0:test_distance_driven[i].find('만')] + '0000'\n",
    "        elif 'ml' in test_distance_driven[i]:\n",
    "            test_distance_driven[i] = str(float(test_distance_driven[i][0:test_distance_driven[i].find('만')])*1.609344)\n",
    "    elif '천' in test_distance_driven[i]:\n",
    "        if 'k' in test_distance_driven[i]:\n",
    "            test_distance_driven[i] = test_distance_driven[i][0:test_distance_driven[i].find('천')] + '000'\n",
    "        elif 'ml' in test_distance_driven[i]:\n",
    "            test_distance_driven[i] = str(float(test_distance_driven[i][0:test_distance_driven[i].find('천')])*1.609344)\n",
    "    elif '등' in test_distance_driven[i]:\n",
    "        #test_distance_driven[i] = test_distance_driven[i][0:test_distance_driven[i].find('등')] + '0'\n",
    "        test_distance_driven[i] = '100'+str(i%10)+'00'\n",
    "        \n",
    "    elif 'k' in test_distance_driven[i]:\n",
    "        test_distance_driven[i] = test_distance_driven[i][0:test_distance_driven[i].find('k')]\n",
    "    elif 'ml' in test_distance_driven[i]:\n",
    "        test_distance_driven[i] = str(float(test_distance_driven[i][0:test_distance_driven[i].find('m')])*1.609344)\n",
    "       # print(test_distance_driven[i])\n",
    "    \n",
    "\n",
    "clean_test.주행거리 = test_distance_driven\n",
    "\n",
    "clean_test[\"주행거리\"] = clean_test[\"주행거리\"].astype(float)\n",
    "#clean_test.dtypes"
   ]
  },
  {
   "cell_type": "code",
   "execution_count": 11,
   "metadata": {},
   "outputs": [
    {
     "data": {
      "text/plain": [
       "모델명             0\n",
       "연식              0\n",
       "연료              0\n",
       "주행거리            0\n",
       "최대출력(마력)      552\n",
       "기통           1514\n",
       "최대토크(kgm)     606\n",
       "구동방식          477\n",
       "국산/수입           0\n",
       "dtype: int64"
      ]
     },
     "execution_count": 11,
     "metadata": {},
     "output_type": "execute_result"
    }
   ],
   "source": [
    "#clean_data.isnull().sum()\n",
    "clean_test.isnull().sum()"
   ]
  },
  {
   "cell_type": "code",
   "execution_count": 12,
   "metadata": {},
   "outputs": [
    {
     "data": {
      "text/plain": [
       "FF     7333\n",
       "FR     2319\n",
       "NaN     961\n",
       "4WD     688\n",
       "AWD     452\n",
       "MR       13\n",
       "RR        3\n",
       "Name: 구동방식, dtype: int64"
      ]
     },
     "execution_count": 12,
     "metadata": {},
     "output_type": "execute_result"
    }
   ],
   "source": [
    "clean_data['구동방식'].value_counts(dropna = False)  "
   ]
  },
  {
   "cell_type": "code",
   "execution_count": 13,
   "metadata": {},
   "outputs": [
    {
     "data": {
      "text/plain": [
       "모델명             0\n",
       "연식              0\n",
       "연료              0\n",
       "주행거리            0\n",
       "최대출력(마력)     1125\n",
       "기통           3071\n",
       "최대토크(kgm)    1224\n",
       "구동방식            0\n",
       "국산/수입           0\n",
       "가격              0\n",
       "dtype: int64"
      ]
     },
     "execution_count": 13,
     "metadata": {},
     "output_type": "execute_result"
    }
   ],
   "source": [
    "# 구동방식 NAN -> NAN 바로 앞 값으로 치환\n",
    "clean_data['구동방식'].fillna(method='ffill',inplace = True)\n",
    "clean_data.isnull().sum() "
   ]
  },
  {
   "cell_type": "code",
   "execution_count": 14,
   "metadata": {},
   "outputs": [],
   "source": [
    "# 최대출력(마력) NAN -> 평균값 치환\n",
    "mean_age = clean_data['최대출력(마력)'].mean()\n",
    "clean_data['최대출력(마력)'].fillna(mean_age,inplace=True)"
   ]
  },
  {
   "cell_type": "code",
   "execution_count": 15,
   "metadata": {},
   "outputs": [
    {
     "data": {
      "text/plain": [
       "4.0    5621\n",
       "NaN    3071\n",
       "6.0    2459\n",
       "3.0     402\n",
       "8.0     171\n",
       "5.0      45\n",
       "Name: 기통, dtype: int64"
      ]
     },
     "execution_count": 15,
     "metadata": {},
     "output_type": "execute_result"
    }
   ],
   "source": [
    "clean_data['기통'].value_counts(dropna = False)  "
   ]
  },
  {
   "cell_type": "code",
   "execution_count": 16,
   "metadata": {},
   "outputs": [
    {
     "data": {
      "text/plain": [
       "4.0    7595\n",
       "6.0    3326\n",
       "3.0     544\n",
       "8.0     245\n",
       "5.0      59\n",
       "Name: 기통, dtype: int64"
      ]
     },
     "execution_count": 16,
     "metadata": {},
     "output_type": "execute_result"
    }
   ],
   "source": [
    "clean_data['기통'].fillna(method='ffill',inplace = True)\n",
    "# 기통 NAN -> NAN 바로 앞 값으로 치환\n",
    "clean_data['기통'].value_counts(dropna = False)  "
   ]
  },
  {
   "cell_type": "code",
   "execution_count": 17,
   "metadata": {},
   "outputs": [],
   "source": [
    "# 최대토크(kgm) NAN -> 평균값 치환\n",
    "mean_age = clean_data['최대토크(kgm)'].mean()\n",
    "clean_data['최대토크(kgm)'].fillna(mean_age,inplace=True)"
   ]
  },
  {
   "cell_type": "code",
   "execution_count": 18,
   "metadata": {},
   "outputs": [
    {
     "data": {
      "text/plain": [
       "모델명          0\n",
       "연식           0\n",
       "연료           0\n",
       "주행거리         0\n",
       "최대출력(마력)     0\n",
       "기통           0\n",
       "최대토크(kgm)    0\n",
       "구동방식         0\n",
       "국산/수입        0\n",
       "가격           0\n",
       "dtype: int64"
      ]
     },
     "execution_count": 18,
     "metadata": {},
     "output_type": "execute_result"
    }
   ],
   "source": [
    "clean_data.isnull().sum()"
   ]
  },
  {
   "cell_type": "code",
   "execution_count": 19,
   "metadata": {},
   "outputs": [
    {
     "name": "stdout",
     "output_type": "stream",
     "text": [
      "(11769, 10)\n"
     ]
    }
   ],
   "source": [
    "print(clean_data.shape) #(11769, 10)"
   ]
  },
  {
   "cell_type": "code",
   "execution_count": 20,
   "metadata": {},
   "outputs": [],
   "source": [
    "# object별로 나누기\n",
    "clean_data = pd.get_dummies(clean_data,prefix_sep='_',drop_first=True)\n",
    "clean_test = pd.get_dummies(clean_test,prefix_sep='_',drop_first=True)"
   ]
  },
  {
   "cell_type": "code",
   "execution_count": 21,
   "metadata": {},
   "outputs": [
    {
     "name": "stdout",
     "output_type": "stream",
     "text": [
      "(11769, 117)\n"
     ]
    }
   ],
   "source": [
    "\n",
    "print(clean_data.shape) #(11769, 117)"
   ]
  },
  {
   "cell_type": "code",
   "execution_count": 22,
   "metadata": {},
   "outputs": [
    {
     "data": {
      "image/png": "[encoded data removed]",
      "text/plain": [
       "<Figure size 1152x288 with 5 Axes>"
      ]
     },
     "metadata": {
      "needs_background": "light"
     },
     "output_type": "display_data"
    }
   ],
   "source": [
    "# Outlier 확인\n",
    "clean_data.rename(columns={'최대출력(마력)':'최대출력'},inplace=True)\n",
    "clean_data.rename(columns={'최대토크(kgm)':'최대토크'},inplace=True)\n",
    "clean_data.rename(columns={'가격(만원)':'가격'},inplace=True)\n",
    "clean_test.rename(columns={'최대출력(마력)':'최대출력'},inplace=True)\n",
    "clean_test.rename(columns={'최대토크(kgm)':'최대토크'},inplace=True)\n",
    "clean_test.rename(columns={'가격(만원)':'가격'},inplace=True)\n",
    "\n",
    "\n",
    "fig, ax = plt.subplots(1,5,figsize=(16,4))\n",
    "ax[0].boxplot(list(clean_data.주행거리))\n",
    "ax[0].set_title(\"Kilometers Drvien\")\n",
    "\n",
    "ax[1].boxplot(list(clean_data.최대출력))\n",
    "ax[1].set_title(\"Max output\")\n",
    "\n",
    "ax[2].boxplot(list(clean_data.기통))\n",
    "ax[2].set_title(\"engine\")\n",
    "\n",
    "ax[3].boxplot(list(clean_data.최대토크))\n",
    "ax[3].set_title(\"Torque\")\n",
    "\n",
    "ax[4].boxplot(list(clean_data.가격))\n",
    "ax[4].set_title(\"Price\")\n",
    "\n",
    "plt.show()\n",
    "\n",
    "#Price에서 한 두개가 유독 값이 큼 -> 버리자"
   ]
  },
  {
   "cell_type": "code",
   "execution_count": 23,
   "metadata": {},
   "outputs": [
    {
     "name": "stderr",
     "output_type": "stream",
     "text": [
      "C:\\Users\\admin\\anaconda3\\lib\\site-packages\\seaborn\\axisgrid.py:2071: UserWarning: The `size` parameter has been renamed to `height`; please update your code.\n",
      "  warnings.warn(msg, UserWarning)\n"
     ]
    },
    {
     "data": {
      "text/plain": [
       "<seaborn.axisgrid.PairGrid at 0x1c4c2ca9130>"
      ]
     },
     "execution_count": 23,
     "metadata": {},
     "output_type": "execute_result"
    },
    {
     "data": {
      "image/png": "[encoded data removed]",
      "text/plain": [
       "<Figure size 1080x216 with 5 Axes>"
      ]
     },
     "metadata": {
      "needs_background": "light"
     },
     "output_type": "display_data"
    }
   ],
   "source": [
    "sns.pairplot(data=clean_data,x_vars=['주행거리','최대출력','기통','최대토크','연식'],y_vars='가격',size=3)"
   ]
  },
  {
   "cell_type": "code",
   "execution_count": 24,
   "metadata": {},
   "outputs": [],
   "source": [
    "#Price가 40000 이상 제거\n",
    "idx = []\n",
    "lt = list(clean_data[\"가격\"])\n",
    "for i in range(len(lt)):\n",
    "    if lt[i] > 17000:\n",
    "        idx.append(i)\n",
    "clean_data = clean_data.drop(idx)\n",
    "clean_data = clean_data.reset_index(drop=True)"
   ]
  },
  {
   "cell_type": "code",
   "execution_count": 25,
   "metadata": {},
   "outputs": [
    {
     "data": {
      "text/plain": [
       "<seaborn.axisgrid.PairGrid at 0x1c4c8b11d90>"
      ]
     },
     "execution_count": 25,
     "metadata": {},
     "output_type": "execute_result"
    },
    {
     "data": {
      "image/png": "[encoded data removed]",
      "text/plain": [
       "<Figure size 1080x216 with 5 Axes>"
      ]
     },
     "metadata": {
      "needs_background": "light"
     },
     "output_type": "display_data"
    }
   ],
   "source": [
    "#sns.pairplot(data=clean_data,x_vars=['주행거리','최대출력','기통','최대토크','연식'],y_vars='가격',size=3)\n",
    "sns.pairplot(data=clean_data,x_vars=['주행거리','최대출력','기통','최대토크','연식'],y_vars='가격',size=3)\n"
   ]
  },
  {
   "cell_type": "code",
   "execution_count": 26,
   "metadata": {},
   "outputs": [
    {
     "data": {
      "text/html": [
       "<div>\n",
       "<style scoped>\n",
       "    .dataframe tbody tr th:only-of-type {\n",
       "        vertical-align: middle;\n",
       "    }\n",
       "\n",
       "    .dataframe tbody tr th {\n",
       "        vertical-align: top;\n",
       "    }\n",
       "\n",
       "    .dataframe thead th {\n",
       "        text-align: right;\n",
       "    }\n",
       "</style>\n",
       "<table border=\"1\" class=\"dataframe\">\n",
       "  <thead>\n",
       "    <tr style=\"text-align: right;\">\n",
       "      <th></th>\n",
       "      <th>연식</th>\n",
       "      <th>주행거리</th>\n",
       "      <th>최대출력</th>\n",
       "      <th>기통</th>\n",
       "      <th>최대토크</th>\n",
       "      <th>가격</th>\n",
       "      <th>모델명_EHLC</th>\n",
       "      <th>모델명_FNS</th>\n",
       "      <th>모델명_GM대우</th>\n",
       "      <th>모델명_JS</th>\n",
       "      <th>...</th>\n",
       "      <th>연료_가솔린/LPG겸용</th>\n",
       "      <th>연료_기타</th>\n",
       "      <th>연료_디젤</th>\n",
       "      <th>연료_수소</th>\n",
       "      <th>연료_전기</th>\n",
       "      <th>구동방식_AWD</th>\n",
       "      <th>구동방식_FF</th>\n",
       "      <th>구동방식_FR</th>\n",
       "      <th>구동방식_MR</th>\n",
       "      <th>구동방식_RR</th>\n",
       "    </tr>\n",
       "  </thead>\n",
       "  <tbody>\n",
       "    <tr>\n",
       "      <th>0</th>\n",
       "      <td>2013.0</td>\n",
       "      <td>40000.0</td>\n",
       "      <td>201.0</td>\n",
       "      <td>4.0</td>\n",
       "      <td>25.5</td>\n",
       "      <td>1870.0</td>\n",
       "      <td>0</td>\n",
       "      <td>0</td>\n",
       "      <td>0</td>\n",
       "      <td>0</td>\n",
       "      <td>...</td>\n",
       "      <td>0</td>\n",
       "      <td>0</td>\n",
       "      <td>0</td>\n",
       "      <td>0</td>\n",
       "      <td>0</td>\n",
       "      <td>0</td>\n",
       "      <td>1</td>\n",
       "      <td>0</td>\n",
       "      <td>0</td>\n",
       "      <td>0</td>\n",
       "    </tr>\n",
       "    <tr>\n",
       "      <th>1</th>\n",
       "      <td>2010.0</td>\n",
       "      <td>90000.0</td>\n",
       "      <td>157.0</td>\n",
       "      <td>4.0</td>\n",
       "      <td>20.0</td>\n",
       "      <td>700.0</td>\n",
       "      <td>0</td>\n",
       "      <td>0</td>\n",
       "      <td>0</td>\n",
       "      <td>0</td>\n",
       "      <td>...</td>\n",
       "      <td>0</td>\n",
       "      <td>0</td>\n",
       "      <td>0</td>\n",
       "      <td>0</td>\n",
       "      <td>0</td>\n",
       "      <td>0</td>\n",
       "      <td>1</td>\n",
       "      <td>0</td>\n",
       "      <td>0</td>\n",
       "      <td>0</td>\n",
       "    </tr>\n",
       "    <tr>\n",
       "      <th>2</th>\n",
       "      <td>2015.0</td>\n",
       "      <td>30000.0</td>\n",
       "      <td>202.0</td>\n",
       "      <td>4.0</td>\n",
       "      <td>45.0</td>\n",
       "      <td>2990.0</td>\n",
       "      <td>0</td>\n",
       "      <td>0</td>\n",
       "      <td>0</td>\n",
       "      <td>0</td>\n",
       "      <td>...</td>\n",
       "      <td>0</td>\n",
       "      <td>0</td>\n",
       "      <td>1</td>\n",
       "      <td>0</td>\n",
       "      <td>0</td>\n",
       "      <td>0</td>\n",
       "      <td>1</td>\n",
       "      <td>0</td>\n",
       "      <td>0</td>\n",
       "      <td>0</td>\n",
       "    </tr>\n",
       "    <tr>\n",
       "      <th>3</th>\n",
       "      <td>2008.0</td>\n",
       "      <td>160000.0</td>\n",
       "      <td>151.0</td>\n",
       "      <td>4.0</td>\n",
       "      <td>33.8</td>\n",
       "      <td>420.0</td>\n",
       "      <td>0</td>\n",
       "      <td>0</td>\n",
       "      <td>0</td>\n",
       "      <td>0</td>\n",
       "      <td>...</td>\n",
       "      <td>0</td>\n",
       "      <td>0</td>\n",
       "      <td>1</td>\n",
       "      <td>0</td>\n",
       "      <td>0</td>\n",
       "      <td>0</td>\n",
       "      <td>0</td>\n",
       "      <td>1</td>\n",
       "      <td>0</td>\n",
       "      <td>0</td>\n",
       "    </tr>\n",
       "    <tr>\n",
       "      <th>4</th>\n",
       "      <td>2004.0</td>\n",
       "      <td>160000.0</td>\n",
       "      <td>103.0</td>\n",
       "      <td>4.0</td>\n",
       "      <td>24.0</td>\n",
       "      <td>450.0</td>\n",
       "      <td>0</td>\n",
       "      <td>0</td>\n",
       "      <td>0</td>\n",
       "      <td>0</td>\n",
       "      <td>...</td>\n",
       "      <td>0</td>\n",
       "      <td>0</td>\n",
       "      <td>1</td>\n",
       "      <td>0</td>\n",
       "      <td>0</td>\n",
       "      <td>0</td>\n",
       "      <td>0</td>\n",
       "      <td>1</td>\n",
       "      <td>0</td>\n",
       "      <td>0</td>\n",
       "    </tr>\n",
       "  </tbody>\n",
       "</table>\n",
       "<p>5 rows × 117 columns</p>\n",
       "</div>"
      ],
      "text/plain": [
       "       연식      주행거리   최대출력   기통  최대토크      가격  모델명_EHLC  모델명_FNS  모델명_GM대우  \\\n",
       "0  2013.0   40000.0  201.0  4.0  25.5  1870.0         0        0         0   \n",
       "1  2010.0   90000.0  157.0  4.0  20.0   700.0         0        0         0   \n",
       "2  2015.0   30000.0  202.0  4.0  45.0  2990.0         0        0         0   \n",
       "3  2008.0  160000.0  151.0  4.0  33.8   420.0         0        0         0   \n",
       "4  2004.0  160000.0  103.0  4.0  24.0   450.0         0        0         0   \n",
       "\n",
       "   모델명_JS  ...  연료_가솔린/LPG겸용  연료_기타  연료_디젤  연료_수소  연료_전기  구동방식_AWD  구동방식_FF  \\\n",
       "0       0  ...             0      0      0      0      0         0        1   \n",
       "1       0  ...             0      0      0      0      0         0        1   \n",
       "2       0  ...             0      0      1      0      0         0        1   \n",
       "3       0  ...             0      0      1      0      0         0        0   \n",
       "4       0  ...             0      0      1      0      0         0        0   \n",
       "\n",
       "   구동방식_FR  구동방식_MR  구동방식_RR  \n",
       "0        0        0        0  \n",
       "1        0        0        0  \n",
       "2        0        0        0  \n",
       "3        1        0        0  \n",
       "4        1        0        0  \n",
       "\n",
       "[5 rows x 117 columns]"
      ]
     },
     "execution_count": 26,
     "metadata": {},
     "output_type": "execute_result"
    }
   ],
   "source": [
    "clean_data.head()"
   ]
  },
  {
   "cell_type": "code",
   "execution_count": 27,
   "metadata": {},
   "outputs": [
    {
     "data": {
      "text/html": [
       "<div>\n",
       "<style scoped>\n",
       "    .dataframe tbody tr th:only-of-type {\n",
       "        vertical-align: middle;\n",
       "    }\n",
       "\n",
       "    .dataframe tbody tr th {\n",
       "        vertical-align: top;\n",
       "    }\n",
       "\n",
       "    .dataframe thead th {\n",
       "        text-align: right;\n",
       "    }\n",
       "</style>\n",
       "<table border=\"1\" class=\"dataframe\">\n",
       "  <thead>\n",
       "    <tr style=\"text-align: right;\">\n",
       "      <th></th>\n",
       "      <th>연식</th>\n",
       "      <th>주행거리</th>\n",
       "      <th>최대출력</th>\n",
       "      <th>기통</th>\n",
       "      <th>최대토크</th>\n",
       "      <th>모델명_LM</th>\n",
       "      <th>모델명_MIRAGE</th>\n",
       "      <th>모델명_MVP</th>\n",
       "      <th>모델명_글로밴</th>\n",
       "      <th>모델명_기아</th>\n",
       "      <th>...</th>\n",
       "      <th>연료_가솔린+전기</th>\n",
       "      <th>연료_가솔린/CNG겸용</th>\n",
       "      <th>연료_가솔린/LPG겸용</th>\n",
       "      <th>연료_기타</th>\n",
       "      <th>연료_디젤</th>\n",
       "      <th>연료_전기</th>\n",
       "      <th>구동방식_AWD</th>\n",
       "      <th>구동방식_FF</th>\n",
       "      <th>구동방식_FR</th>\n",
       "      <th>구동방식_MR</th>\n",
       "    </tr>\n",
       "  </thead>\n",
       "  <tbody>\n",
       "    <tr>\n",
       "      <th>0</th>\n",
       "      <td>2020.0</td>\n",
       "      <td>8000.0</td>\n",
       "      <td>278.0</td>\n",
       "      <td>NaN</td>\n",
       "      <td>60.0</td>\n",
       "      <td>0</td>\n",
       "      <td>0</td>\n",
       "      <td>0</td>\n",
       "      <td>0</td>\n",
       "      <td>0</td>\n",
       "      <td>...</td>\n",
       "      <td>0</td>\n",
       "      <td>0</td>\n",
       "      <td>0</td>\n",
       "      <td>0</td>\n",
       "      <td>1</td>\n",
       "      <td>0</td>\n",
       "      <td>1</td>\n",
       "      <td>0</td>\n",
       "      <td>0</td>\n",
       "      <td>0</td>\n",
       "    </tr>\n",
       "    <tr>\n",
       "      <th>1</th>\n",
       "      <td>2015.0</td>\n",
       "      <td>90000.0</td>\n",
       "      <td>163.0</td>\n",
       "      <td>4.0</td>\n",
       "      <td>36.7</td>\n",
       "      <td>0</td>\n",
       "      <td>0</td>\n",
       "      <td>0</td>\n",
       "      <td>0</td>\n",
       "      <td>0</td>\n",
       "      <td>...</td>\n",
       "      <td>0</td>\n",
       "      <td>0</td>\n",
       "      <td>0</td>\n",
       "      <td>0</td>\n",
       "      <td>1</td>\n",
       "      <td>0</td>\n",
       "      <td>0</td>\n",
       "      <td>1</td>\n",
       "      <td>0</td>\n",
       "      <td>0</td>\n",
       "    </tr>\n",
       "    <tr>\n",
       "      <th>2</th>\n",
       "      <td>2012.0</td>\n",
       "      <td>110000.0</td>\n",
       "      <td>201.0</td>\n",
       "      <td>4.0</td>\n",
       "      <td>25.5</td>\n",
       "      <td>0</td>\n",
       "      <td>0</td>\n",
       "      <td>0</td>\n",
       "      <td>0</td>\n",
       "      <td>0</td>\n",
       "      <td>...</td>\n",
       "      <td>0</td>\n",
       "      <td>0</td>\n",
       "      <td>0</td>\n",
       "      <td>0</td>\n",
       "      <td>0</td>\n",
       "      <td>0</td>\n",
       "      <td>0</td>\n",
       "      <td>1</td>\n",
       "      <td>0</td>\n",
       "      <td>0</td>\n",
       "    </tr>\n",
       "    <tr>\n",
       "      <th>3</th>\n",
       "      <td>2016.0</td>\n",
       "      <td>20000.0</td>\n",
       "      <td>78.0</td>\n",
       "      <td>NaN</td>\n",
       "      <td>9.6</td>\n",
       "      <td>0</td>\n",
       "      <td>0</td>\n",
       "      <td>0</td>\n",
       "      <td>0</td>\n",
       "      <td>1</td>\n",
       "      <td>...</td>\n",
       "      <td>0</td>\n",
       "      <td>0</td>\n",
       "      <td>0</td>\n",
       "      <td>0</td>\n",
       "      <td>0</td>\n",
       "      <td>0</td>\n",
       "      <td>0</td>\n",
       "      <td>1</td>\n",
       "      <td>0</td>\n",
       "      <td>0</td>\n",
       "    </tr>\n",
       "    <tr>\n",
       "      <th>4</th>\n",
       "      <td>2017.0</td>\n",
       "      <td>10000.0</td>\n",
       "      <td>NaN</td>\n",
       "      <td>4.0</td>\n",
       "      <td>NaN</td>\n",
       "      <td>0</td>\n",
       "      <td>0</td>\n",
       "      <td>0</td>\n",
       "      <td>0</td>\n",
       "      <td>0</td>\n",
       "      <td>...</td>\n",
       "      <td>0</td>\n",
       "      <td>0</td>\n",
       "      <td>0</td>\n",
       "      <td>0</td>\n",
       "      <td>0</td>\n",
       "      <td>0</td>\n",
       "      <td>0</td>\n",
       "      <td>1</td>\n",
       "      <td>0</td>\n",
       "      <td>0</td>\n",
       "    </tr>\n",
       "  </tbody>\n",
       "</table>\n",
       "<p>5 rows × 75 columns</p>\n",
       "</div>"
      ],
      "text/plain": [
       "       연식      주행거리   최대출력   기통  최대토크  모델명_LM  모델명_MIRAGE  모델명_MVP  모델명_글로밴  \\\n",
       "0  2020.0    8000.0  278.0  NaN  60.0       0           0        0        0   \n",
       "1  2015.0   90000.0  163.0  4.0  36.7       0           0        0        0   \n",
       "2  2012.0  110000.0  201.0  4.0  25.5       0           0        0        0   \n",
       "3  2016.0   20000.0   78.0  NaN   9.6       0           0        0        0   \n",
       "4  2017.0   10000.0    NaN  4.0   NaN       0           0        0        0   \n",
       "\n",
       "   모델명_기아  ...  연료_가솔린+전기  연료_가솔린/CNG겸용  연료_가솔린/LPG겸용  연료_기타  연료_디젤  연료_전기  \\\n",
       "0       0  ...          0             0             0      0      1      0   \n",
       "1       0  ...          0             0             0      0      1      0   \n",
       "2       0  ...          0             0             0      0      0      0   \n",
       "3       1  ...          0             0             0      0      0      0   \n",
       "4       0  ...          0             0             0      0      0      0   \n",
       "\n",
       "   구동방식_AWD  구동방식_FF  구동방식_FR  구동방식_MR  \n",
       "0         1        0        0        0  \n",
       "1         0        1        0        0  \n",
       "2         0        1        0        0  \n",
       "3         0        1        0        0  \n",
       "4         0        1        0        0  \n",
       "\n",
       "[5 rows x 75 columns]"
      ]
     },
     "execution_count": 27,
     "metadata": {},
     "output_type": "execute_result"
    }
   ],
   "source": [
    "clean_test.head()"
   ]
  },
  {
   "cell_type": "code",
   "execution_count": 28,
   "metadata": {},
   "outputs": [],
   "source": [
    "#np.unique(list(clean_data))\n",
    "#clean_data.append([{'모델명_오페라':0, '모델명_서광':0, '모델명_카인드아크코리아':0, '모델명_바나나':0, '모델명_세렌디피티':0, '모델명_LM':0, '모델명_MVP':0, '모델명_맥스리무진':0, '모델명_모빌':0, '모델명_MIRAGE':0, '모델명_렉스온':0, '모델명_애드카티브이':0, '모델명_캠핑나드리':0, '모델명_오토':0, '모델명_밴텍R':0, '모델명_세정에포스캠핑카':0, '모델명_카인드':0, '모델명_대우':0, '모델명_한울':0, '모델명_화이트':0, '모델명_자동차시대':0, '모델명_케이씨모터스':0}])\n",
    "#clean_data.append([{'모델명_맥스리무진':0, '모델명_대우':0, '모델명_화이트':0, '모델명_밴텍R':0, '모델명_한울':0, '모델명_세렌디피티':0, '모델명_세정에포스캠핑카':0, '모델명_애드카티브이':0, '모델명_카인드아크코리아':0, '모델명_모빌':0, '모델명_케이씨모터스':0, '모델명_서광':0, '모델명_오토':0, '모델명_바나나':0, '모델명_캠핑나드리':0, '모델명_카인드':0, '모델명_MVP':0, '모델명_MIRAGE':0, '모델명_오페라':0, '모델명_자동차시대':0, '모델명_LM':0, '모델명_렉스온':0,\n",
    "#'모델명_애드카티브이':0, '모델명_오토':0, '모델명_밴텍R':0, '모델명_카인드':0, '모델명_한울':0, '모델명_카인드아크코리아':0, '모델명_세정에포스캠핑카':0, '모델명_모빌':0, '모델명_대우':0, '모델명_MIRAGE':0, '모델명_화이트':0, '모델명_오페라':0, '모델명_캠핑나드리':0, '모델명_렉스온':0, '모델명_자동차시대':0, '모델명_LM':0, '모델명_세렌디피티':0, '모델명_MVP':0, '모델명_바나나':0, '모델명_서광':0, '모델명_맥스리무진':0, '모델명_케이씨모터스':0}])\n",
    "#clean_test.append([{'모델명_맥스리무진':0, '모델명_대우':0, '모델명_화이트':0, '모델명_밴텍R':0, '모델명_한울':0, '모델명_세렌디피티':0, '모델명_세정에포스캠핑카':0, '모델명_애드카티브이':0, '모델명_카인드아크코리아':0, '모델명_모빌':0, '모델명_케이씨모터스':0, '모델명_서광':0, '모델명_오토':0, '모델명_바나나':0, '모델명_캠핑나드리':0, '모델명_카인드':0, '모델명_MVP':0, '모델명_MIRAGE':0, '모델명_오페라':0, '모델명_자동차시대':0, '모델명_LM':0, '모델명_렉스온':0,\n",
    "#'모델명_애드카티브이':0, '모델명_오토':0, '모델명_밴텍R':0, '모델명_카인드':0, '모델명_한울':0, '모델명_카인드아크코리아':0, '모델명_세정에포스캠핑카':0, '모델명_모빌':0, '모델명_대우':0, '모델명_MIRAGE':0, '모델명_화이트':0, '모델명_오페라':0, '모델명_캠핑나드리':0, '모델명_렉스온':0, '모델명_자동차시대':0, '모델명_LM':0, '모델명_세렌디피티':0, '모델명_MVP':0, '모델명_바나나':0, '모델명_서광':0, '모델명_맥스리무진':0, '모델명_케이씨모터스':0}])"
   ]
  },
  {
   "cell_type": "code",
   "execution_count": 29,
   "metadata": {},
   "outputs": [
    {
     "data": {
      "text/plain": [
       "array(['가격', '구동방식_AWD', '구동방식_FF', '구동방식_FR', '구동방식_MR', '구동방식_RR', '기통',\n",
       "       '모델명_EHLC', '모델명_FNS', '모델명_GM대우', '모델명_JS', '모델명_JY', '모델명_KCM',\n",
       "       '모델명_PINKAR', '모델명_거화', '모델명_경인', '모델명_글로밴', '모델명_기아', '모델명_나르미',\n",
       "       '모델명_다솜', '모델명_다온', '모델명_다온포스', '모델명_대한', '모델명_동아', '모델명_두성',\n",
       "       '모델명_듀오탑', '모델명_드비앙', '모델명_라헬', '모델명_레이모', '모델명_로드윈', '모델명_르노삼성',\n",
       "       '모델명_맥스', '모델명_메이저', '모델명_모터라이프', '모델명_밴텍', '모델명_밴텍아톰', '모델명_벤텍',\n",
       "       '모델명_벤텍R', '모델명_비에프엘', '모델명_삼일', '모델명_새한', '모델명_샤크', '모델명_성우',\n",
       "       '모델명_세정', '모델명_세진', '모델명_쉐보레', '모델명_스내일', '모델명_스타라인', '모델명_스타렉스',\n",
       "       '모델명_스타모빌', '모델명_스타캠프', '모델명_스페이스', '모델명_신광수인', '모델명_신화', '모델명_쌍용',\n",
       "       '모델명_씨맥스', '모델명_씨티', '모델명_아리아모빌', '모델명_아트원', '모델명_어울림모터스',\n",
       "       '모델명_에드윈', '모델명_에어밴', '모델명_에이스', '모델명_에이스캠퍼', '모델명_영남', '모델명_오딧',\n",
       "       '모델명_오딧세이', '모델명_오텍', '모델명_오토캠프', '모델명_우주', '모델명_위크캠프', '모델명_유니버스',\n",
       "       '모델명_유로스타', '모델명_유림', '모델명_익스플로러', '모델명_정립', '모델명_정박형', '모델명_제네시스',\n",
       "       '모델명_제일모빌', '모델명_지바', '모델명_지안', '모델명_창림', '모델명_카라원', '모델명_카스오토',\n",
       "       '모델명_카인드아크', '모델명_캠핑나들이', '모델명_캠핑스토리', '모델명_캠핑카', '모델명_캠핑카마스터',\n",
       "       '모델명_컴바이컴', '모델명_케이씨', '모델명_케이씨노블', '모델명_케이원', '모델명_코반',\n",
       "       '모델명_타이어프로', '모델명_타임에스', '모델명_팀', '모델명_프리미엄', '모델명_하이렉스', '모델명_한신',\n",
       "       '모델명_현대', '모델명_홍성', '모델명_힐랜더', '연료_LPG', '연료_LPG+전기', '연료_가솔린',\n",
       "       '연료_가솔린+전기', '연료_가솔린/CNG겸용', '연료_가솔린/LPG겸용', '연료_기타', '연료_디젤',\n",
       "       '연료_수소', '연료_전기', '연식', '주행거리', '최대출력', '최대토크'], dtype='<U12')"
      ]
     },
     "execution_count": 29,
     "metadata": {},
     "output_type": "execute_result"
    }
   ],
   "source": [
    "np.unique(list(clean_data))"
   ]
  },
  {
   "cell_type": "code",
   "execution_count": 30,
   "metadata": {},
   "outputs": [
    {
     "data": {
      "text/plain": [
       "array(['구동방식_AWD', '구동방식_FF', '구동방식_FR', '구동방식_MR', '기통', '모델명_LM',\n",
       "       '모델명_MIRAGE', '모델명_MVP', '모델명_글로밴', '모델명_기아', '모델명_다온', '모델명_대우',\n",
       "       '모델명_두성', '모델명_듀오탑', '모델명_렉스온', '모델명_르노삼성', '모델명_맥스', '모델명_맥스리무진',\n",
       "       '모델명_모빌', '모델명_바나나', '모델명_밴텍', '모델명_밴텍R', '모델명_벤텍', '모델명_삼일',\n",
       "       '모델명_샤크', '모델명_서광', '모델명_세렌디피티', '모델명_세정', '모델명_세정에포스캠핑카',\n",
       "       '모델명_쉐보레', '모델명_스내일', '모델명_스타모빌', '모델명_신화', '모델명_쌍용', '모델명_씨맥스',\n",
       "       '모델명_아트원', '모델명_애드카티브이', '모델명_어울림모터스', '모델명_에드윈', '모델명_에어밴',\n",
       "       '모델명_에이스캠퍼', '모델명_오딧세이', '모델명_오토', '모델명_오토캠프', '모델명_오페라',\n",
       "       '모델명_자동차시대', '모델명_제네시스', '모델명_제일모빌', '모델명_지바', '모델명_창림', '모델명_카인드',\n",
       "       '모델명_카인드아크코리아', '모델명_캠핑나드리', '모델명_캠핑나들이', '모델명_케이씨', '모델명_케이씨모터스',\n",
       "       '모델명_케이원', '모델명_타임에스', '모델명_한신', '모델명_한울', '모델명_현대', '모델명_화이트',\n",
       "       '연료_LPG', '연료_LPG+전기', '연료_가솔린', '연료_가솔린+전기', '연료_가솔린/CNG겸용',\n",
       "       '연료_가솔린/LPG겸용', '연료_기타', '연료_디젤', '연료_전기', '연식', '주행거리', '최대출력',\n",
       "       '최대토크'], dtype='<U12')"
      ]
     },
     "execution_count": 30,
     "metadata": {},
     "output_type": "execute_result"
    }
   ],
   "source": [
    "np.unique(list(clean_test))"
   ]
  },
  {
   "cell_type": "code",
   "execution_count": 31,
   "metadata": {},
   "outputs": [],
   "source": [
    "feature_names = ['주행거리', '최대출력', '기통', '최대토크','모델명_글로밴', '모델명_기아', '모델명_르노삼성',\n",
    "       '모델명_맥스','모델명_쉐보레', '모델명_쌍용', '모델명_씨맥스', '모델명_아트원',\n",
    "       '모델명_제네시스', '모델명_케이씨', '모델명_현대', '연식', '연료_LPG', '연료_LPG+전기', '연료_가솔린',\n",
    "       '연료_가솔린+전기', '연료_가솔린/CNG겸용', '연료_가솔린/LPG겸용', '연료_디젤', '구동방식_AWD',\n",
    "       '구동방식_FF', '구동방식_FR']"
   ]
  },
  {
   "cell_type": "code",
   "execution_count": 32,
   "metadata": {},
   "outputs": [],
   "source": [
    "cdata = list(np.unique(list(clean_data)))"
   ]
  },
  {
   "cell_type": "code",
   "execution_count": 33,
   "metadata": {},
   "outputs": [],
   "source": [
    "ctest = list(np.unique(list(clean_test)))"
   ]
  },
  {
   "cell_type": "code",
   "execution_count": 34,
   "metadata": {},
   "outputs": [
    {
     "name": "stdout",
     "output_type": "stream",
     "text": [
      "           연식      주행거리        최대출력   기통       최대토크       가격  모델명_EHLC  \\\n",
      "0      2013.0   40000.0  201.000000  4.0  25.500000   1870.0         0   \n",
      "1      2010.0   90000.0  157.000000  4.0  20.000000    700.0         0   \n",
      "2      2015.0   30000.0  202.000000  4.0  45.000000   2990.0         0   \n",
      "3      2008.0  160000.0  151.000000  4.0  33.800000    420.0         0   \n",
      "4      2004.0  160000.0  103.000000  4.0  24.000000    450.0         0   \n",
      "...       ...       ...         ...  ...        ...      ...       ...   \n",
      "11761  2019.0    2000.0  425.000000  8.0  53.000000  11200.0         0   \n",
      "11762  2012.0    5000.0  188.235165  4.0  29.874765  10500.0         0   \n",
      "11763  2016.0     230.0  370.000000  6.0  52.000000  10000.0         0   \n",
      "11764  2016.0    9000.0  425.000000  8.0  53.000000  10300.0         0   \n",
      "11765  2016.0    3000.0  425.000000  8.0  53.000000  10800.0         0   \n",
      "\n",
      "       모델명_FNS  모델명_GM대우  모델명_JS  ...  모델명_애드카티브이  모델명_오토  모델명_오페라  모델명_자동차시대  \\\n",
      "0            0         0       0  ...           0       0        0          0   \n",
      "1            0         0       0  ...           0       0        0          0   \n",
      "2            0         0       0  ...           0       0        0          0   \n",
      "3            0         0       0  ...           0       0        0          0   \n",
      "4            0         0       0  ...           0       0        0          0   \n",
      "...        ...       ...     ...  ...         ...     ...      ...        ...   \n",
      "11761        0         0       0  ...           0       0        0          0   \n",
      "11762        0         0       0  ...           0       0        0          0   \n",
      "11763        0         0       0  ...           0       0        0          0   \n",
      "11764        0         0       0  ...           0       0        0          0   \n",
      "11765        0         0       0  ...           0       0        0          0   \n",
      "\n",
      "       모델명_카인드  모델명_카인드아크코리아  모델명_캠핑나드리  모델명_케이씨모터스  모델명_한울  모델명_화이트  \n",
      "0            0             0          0           0       0        0  \n",
      "1            0             0          0           0       0        0  \n",
      "2            0             0          0           0       0        0  \n",
      "3            0             0          0           0       0        0  \n",
      "4            0             0          0           0       0        0  \n",
      "...        ...           ...        ...         ...     ...      ...  \n",
      "11761        0             0          0           0       0        0  \n",
      "11762        0             0          0           0       0        0  \n",
      "11763        0             0          0           0       0        0  \n",
      "11764        0             0          0           0       0        0  \n",
      "11765        0             0          0           0       0        0  \n",
      "\n",
      "[11766 rows x 139 columns]\n"
     ]
    }
   ],
   "source": [
    "newdata = []\n",
    "for i in range(len(ctest)):\n",
    "    if ctest[i] not in cdata:\n",
    "        #newdata.append(ctest[i])\n",
    "        clean_data[ctest[i]]=0\n",
    "\n",
    "#dictionary = {string : 0 for string in newdata}\n",
    "print(clean_data)"
   ]
  },
  {
   "cell_type": "code",
   "execution_count": 35,
   "metadata": {},
   "outputs": [],
   "source": [
    "x_train = clean_data[list(np.unique(list(clean_test)))]\n",
    "#x_train = clean_data[feature_names]\n",
    "x_test=clean_test[list(np.unique(list(clean_test)))]\n",
    "#x_test=clean_test[feature_names]\n",
    "lable_name = \"가격\"\n",
    "y_train=clean_data[lable_name]"
   ]
  },
  {
   "cell_type": "code",
   "execution_count": 36,
   "metadata": {},
   "outputs": [
    {
     "data": {
      "text/html": [
       "<div>\n",
       "<style scoped>\n",
       "    .dataframe tbody tr th:only-of-type {\n",
       "        vertical-align: middle;\n",
       "    }\n",
       "\n",
       "    .dataframe tbody tr th {\n",
       "        vertical-align: top;\n",
       "    }\n",
       "\n",
       "    .dataframe thead th {\n",
       "        text-align: right;\n",
       "    }\n",
       "</style>\n",
       "<table border=\"1\" class=\"dataframe\">\n",
       "  <thead>\n",
       "    <tr style=\"text-align: right;\">\n",
       "      <th></th>\n",
       "      <th>구동방식_AWD</th>\n",
       "      <th>구동방식_FF</th>\n",
       "      <th>구동방식_FR</th>\n",
       "      <th>구동방식_MR</th>\n",
       "      <th>기통</th>\n",
       "      <th>모델명_LM</th>\n",
       "      <th>모델명_MIRAGE</th>\n",
       "      <th>모델명_MVP</th>\n",
       "      <th>모델명_글로밴</th>\n",
       "      <th>모델명_기아</th>\n",
       "      <th>...</th>\n",
       "      <th>연료_가솔린+전기</th>\n",
       "      <th>연료_가솔린/CNG겸용</th>\n",
       "      <th>연료_가솔린/LPG겸용</th>\n",
       "      <th>연료_기타</th>\n",
       "      <th>연료_디젤</th>\n",
       "      <th>연료_전기</th>\n",
       "      <th>연식</th>\n",
       "      <th>주행거리</th>\n",
       "      <th>최대출력</th>\n",
       "      <th>최대토크</th>\n",
       "    </tr>\n",
       "  </thead>\n",
       "  <tbody>\n",
       "    <tr>\n",
       "      <th>0</th>\n",
       "      <td>0</td>\n",
       "      <td>1</td>\n",
       "      <td>0</td>\n",
       "      <td>0</td>\n",
       "      <td>4.0</td>\n",
       "      <td>0</td>\n",
       "      <td>0</td>\n",
       "      <td>0</td>\n",
       "      <td>0</td>\n",
       "      <td>1</td>\n",
       "      <td>...</td>\n",
       "      <td>0</td>\n",
       "      <td>0</td>\n",
       "      <td>0</td>\n",
       "      <td>0</td>\n",
       "      <td>0</td>\n",
       "      <td>0</td>\n",
       "      <td>2013.0</td>\n",
       "      <td>40000.0</td>\n",
       "      <td>201.000000</td>\n",
       "      <td>25.500000</td>\n",
       "    </tr>\n",
       "    <tr>\n",
       "      <th>1</th>\n",
       "      <td>0</td>\n",
       "      <td>1</td>\n",
       "      <td>0</td>\n",
       "      <td>0</td>\n",
       "      <td>4.0</td>\n",
       "      <td>0</td>\n",
       "      <td>0</td>\n",
       "      <td>0</td>\n",
       "      <td>0</td>\n",
       "      <td>0</td>\n",
       "      <td>...</td>\n",
       "      <td>0</td>\n",
       "      <td>0</td>\n",
       "      <td>0</td>\n",
       "      <td>0</td>\n",
       "      <td>0</td>\n",
       "      <td>0</td>\n",
       "      <td>2010.0</td>\n",
       "      <td>90000.0</td>\n",
       "      <td>157.000000</td>\n",
       "      <td>20.000000</td>\n",
       "    </tr>\n",
       "    <tr>\n",
       "      <th>2</th>\n",
       "      <td>0</td>\n",
       "      <td>1</td>\n",
       "      <td>0</td>\n",
       "      <td>0</td>\n",
       "      <td>4.0</td>\n",
       "      <td>0</td>\n",
       "      <td>0</td>\n",
       "      <td>0</td>\n",
       "      <td>0</td>\n",
       "      <td>0</td>\n",
       "      <td>...</td>\n",
       "      <td>0</td>\n",
       "      <td>0</td>\n",
       "      <td>0</td>\n",
       "      <td>0</td>\n",
       "      <td>1</td>\n",
       "      <td>0</td>\n",
       "      <td>2015.0</td>\n",
       "      <td>30000.0</td>\n",
       "      <td>202.000000</td>\n",
       "      <td>45.000000</td>\n",
       "    </tr>\n",
       "    <tr>\n",
       "      <th>3</th>\n",
       "      <td>0</td>\n",
       "      <td>0</td>\n",
       "      <td>1</td>\n",
       "      <td>0</td>\n",
       "      <td>4.0</td>\n",
       "      <td>0</td>\n",
       "      <td>0</td>\n",
       "      <td>0</td>\n",
       "      <td>0</td>\n",
       "      <td>0</td>\n",
       "      <td>...</td>\n",
       "      <td>0</td>\n",
       "      <td>0</td>\n",
       "      <td>0</td>\n",
       "      <td>0</td>\n",
       "      <td>1</td>\n",
       "      <td>0</td>\n",
       "      <td>2008.0</td>\n",
       "      <td>160000.0</td>\n",
       "      <td>151.000000</td>\n",
       "      <td>33.800000</td>\n",
       "    </tr>\n",
       "    <tr>\n",
       "      <th>4</th>\n",
       "      <td>0</td>\n",
       "      <td>0</td>\n",
       "      <td>1</td>\n",
       "      <td>0</td>\n",
       "      <td>4.0</td>\n",
       "      <td>0</td>\n",
       "      <td>0</td>\n",
       "      <td>0</td>\n",
       "      <td>0</td>\n",
       "      <td>0</td>\n",
       "      <td>...</td>\n",
       "      <td>0</td>\n",
       "      <td>0</td>\n",
       "      <td>0</td>\n",
       "      <td>0</td>\n",
       "      <td>1</td>\n",
       "      <td>0</td>\n",
       "      <td>2004.0</td>\n",
       "      <td>160000.0</td>\n",
       "      <td>103.000000</td>\n",
       "      <td>24.000000</td>\n",
       "    </tr>\n",
       "    <tr>\n",
       "      <th>...</th>\n",
       "      <td>...</td>\n",
       "      <td>...</td>\n",
       "      <td>...</td>\n",
       "      <td>...</td>\n",
       "      <td>...</td>\n",
       "      <td>...</td>\n",
       "      <td>...</td>\n",
       "      <td>...</td>\n",
       "      <td>...</td>\n",
       "      <td>...</td>\n",
       "      <td>...</td>\n",
       "      <td>...</td>\n",
       "      <td>...</td>\n",
       "      <td>...</td>\n",
       "      <td>...</td>\n",
       "      <td>...</td>\n",
       "      <td>...</td>\n",
       "      <td>...</td>\n",
       "      <td>...</td>\n",
       "      <td>...</td>\n",
       "      <td>...</td>\n",
       "    </tr>\n",
       "    <tr>\n",
       "      <th>11761</th>\n",
       "      <td>1</td>\n",
       "      <td>0</td>\n",
       "      <td>0</td>\n",
       "      <td>0</td>\n",
       "      <td>8.0</td>\n",
       "      <td>0</td>\n",
       "      <td>0</td>\n",
       "      <td>0</td>\n",
       "      <td>0</td>\n",
       "      <td>0</td>\n",
       "      <td>...</td>\n",
       "      <td>0</td>\n",
       "      <td>0</td>\n",
       "      <td>0</td>\n",
       "      <td>0</td>\n",
       "      <td>0</td>\n",
       "      <td>0</td>\n",
       "      <td>2019.0</td>\n",
       "      <td>2000.0</td>\n",
       "      <td>425.000000</td>\n",
       "      <td>53.000000</td>\n",
       "    </tr>\n",
       "    <tr>\n",
       "      <th>11762</th>\n",
       "      <td>0</td>\n",
       "      <td>0</td>\n",
       "      <td>1</td>\n",
       "      <td>0</td>\n",
       "      <td>4.0</td>\n",
       "      <td>0</td>\n",
       "      <td>0</td>\n",
       "      <td>0</td>\n",
       "      <td>0</td>\n",
       "      <td>0</td>\n",
       "      <td>...</td>\n",
       "      <td>0</td>\n",
       "      <td>0</td>\n",
       "      <td>0</td>\n",
       "      <td>0</td>\n",
       "      <td>0</td>\n",
       "      <td>0</td>\n",
       "      <td>2012.0</td>\n",
       "      <td>5000.0</td>\n",
       "      <td>188.235165</td>\n",
       "      <td>29.874765</td>\n",
       "    </tr>\n",
       "    <tr>\n",
       "      <th>11763</th>\n",
       "      <td>1</td>\n",
       "      <td>0</td>\n",
       "      <td>0</td>\n",
       "      <td>0</td>\n",
       "      <td>6.0</td>\n",
       "      <td>0</td>\n",
       "      <td>0</td>\n",
       "      <td>0</td>\n",
       "      <td>0</td>\n",
       "      <td>0</td>\n",
       "      <td>...</td>\n",
       "      <td>0</td>\n",
       "      <td>0</td>\n",
       "      <td>0</td>\n",
       "      <td>0</td>\n",
       "      <td>0</td>\n",
       "      <td>0</td>\n",
       "      <td>2016.0</td>\n",
       "      <td>230.0</td>\n",
       "      <td>370.000000</td>\n",
       "      <td>52.000000</td>\n",
       "    </tr>\n",
       "    <tr>\n",
       "      <th>11764</th>\n",
       "      <td>1</td>\n",
       "      <td>0</td>\n",
       "      <td>0</td>\n",
       "      <td>0</td>\n",
       "      <td>8.0</td>\n",
       "      <td>0</td>\n",
       "      <td>0</td>\n",
       "      <td>0</td>\n",
       "      <td>0</td>\n",
       "      <td>0</td>\n",
       "      <td>...</td>\n",
       "      <td>0</td>\n",
       "      <td>0</td>\n",
       "      <td>0</td>\n",
       "      <td>0</td>\n",
       "      <td>0</td>\n",
       "      <td>0</td>\n",
       "      <td>2016.0</td>\n",
       "      <td>9000.0</td>\n",
       "      <td>425.000000</td>\n",
       "      <td>53.000000</td>\n",
       "    </tr>\n",
       "    <tr>\n",
       "      <th>11765</th>\n",
       "      <td>1</td>\n",
       "      <td>0</td>\n",
       "      <td>0</td>\n",
       "      <td>0</td>\n",
       "      <td>8.0</td>\n",
       "      <td>0</td>\n",
       "      <td>0</td>\n",
       "      <td>0</td>\n",
       "      <td>0</td>\n",
       "      <td>0</td>\n",
       "      <td>...</td>\n",
       "      <td>0</td>\n",
       "      <td>0</td>\n",
       "      <td>0</td>\n",
       "      <td>0</td>\n",
       "      <td>0</td>\n",
       "      <td>0</td>\n",
       "      <td>2016.0</td>\n",
       "      <td>3000.0</td>\n",
       "      <td>425.000000</td>\n",
       "      <td>53.000000</td>\n",
       "    </tr>\n",
       "  </tbody>\n",
       "</table>\n",
       "<p>11766 rows × 75 columns</p>\n",
       "</div>"
      ],
      "text/plain": [
       "       구동방식_AWD  구동방식_FF  구동방식_FR  구동방식_MR   기통  모델명_LM  모델명_MIRAGE  모델명_MVP  \\\n",
       "0             0        1        0        0  4.0       0           0        0   \n",
       "1             0        1        0        0  4.0       0           0        0   \n",
       "2             0        1        0        0  4.0       0           0        0   \n",
       "3             0        0        1        0  4.0       0           0        0   \n",
       "4             0        0        1        0  4.0       0           0        0   \n",
       "...         ...      ...      ...      ...  ...     ...         ...      ...   \n",
       "11761         1        0        0        0  8.0       0           0        0   \n",
       "11762         0        0        1        0  4.0       0           0        0   \n",
       "11763         1        0        0        0  6.0       0           0        0   \n",
       "11764         1        0        0        0  8.0       0           0        0   \n",
       "11765         1        0        0        0  8.0       0           0        0   \n",
       "\n",
       "       모델명_글로밴  모델명_기아  ...  연료_가솔린+전기  연료_가솔린/CNG겸용  연료_가솔린/LPG겸용  연료_기타  \\\n",
       "0            0       1  ...          0             0             0      0   \n",
       "1            0       0  ...          0             0             0      0   \n",
       "2            0       0  ...          0             0             0      0   \n",
       "3            0       0  ...          0             0             0      0   \n",
       "4            0       0  ...          0             0             0      0   \n",
       "...        ...     ...  ...        ...           ...           ...    ...   \n",
       "11761        0       0  ...          0             0             0      0   \n",
       "11762        0       0  ...          0             0             0      0   \n",
       "11763        0       0  ...          0             0             0      0   \n",
       "11764        0       0  ...          0             0             0      0   \n",
       "11765        0       0  ...          0             0             0      0   \n",
       "\n",
       "       연료_디젤  연료_전기      연식      주행거리        최대출력       최대토크  \n",
       "0          0      0  2013.0   40000.0  201.000000  25.500000  \n",
       "1          0      0  2010.0   90000.0  157.000000  20.000000  \n",
       "2          1      0  2015.0   30000.0  202.000000  45.000000  \n",
       "3          1      0  2008.0  160000.0  151.000000  33.800000  \n",
       "4          1      0  2004.0  160000.0  103.000000  24.000000  \n",
       "...      ...    ...     ...       ...         ...        ...  \n",
       "11761      0      0  2019.0    2000.0  425.000000  53.000000  \n",
       "11762      0      0  2012.0    5000.0  188.235165  29.874765  \n",
       "11763      0      0  2016.0     230.0  370.000000  52.000000  \n",
       "11764      0      0  2016.0    9000.0  425.000000  53.000000  \n",
       "11765      0      0  2016.0    3000.0  425.000000  53.000000  \n",
       "\n",
       "[11766 rows x 75 columns]"
      ]
     },
     "execution_count": 36,
     "metadata": {},
     "output_type": "execute_result"
    }
   ],
   "source": [
    "x_train"
   ]
  },
  {
   "cell_type": "code",
   "execution_count": 37,
   "metadata": {},
   "outputs": [
    {
     "data": {
      "text/plain": [
       "구동방식_AWD       0\n",
       "구동방식_FF        0\n",
       "구동방식_FR        0\n",
       "구동방식_MR        0\n",
       "기통          1514\n",
       "            ... \n",
       "연료_전기          0\n",
       "연식             0\n",
       "주행거리           0\n",
       "최대출력         552\n",
       "최대토크         606\n",
       "Length: 75, dtype: int64"
      ]
     },
     "execution_count": 37,
     "metadata": {},
     "output_type": "execute_result"
    }
   ],
   "source": [
    "x_test.isnull().sum()"
   ]
  },
  {
   "cell_type": "code",
   "execution_count": 38,
   "metadata": {},
   "outputs": [],
   "source": [
    "x_test = x_test.fillna({'최대토크':x_train['최대토크'].mean(),'최대출력':x_train['최대출력'].mean()})"
   ]
  },
  {
   "cell_type": "code",
   "execution_count": 39,
   "metadata": {},
   "outputs": [
    {
     "data": {
      "text/plain": [
       "구동방식_AWD       0\n",
       "구동방식_FF        0\n",
       "구동방식_FR        0\n",
       "구동방식_MR        0\n",
       "기통          1514\n",
       "            ... \n",
       "연료_전기          0\n",
       "연식             0\n",
       "주행거리           0\n",
       "최대출력           0\n",
       "최대토크           0\n",
       "Length: 75, dtype: int64"
      ]
     },
     "execution_count": 39,
     "metadata": {},
     "output_type": "execute_result"
    }
   ],
   "source": [
    "x_test.isnull().sum()"
   ]
  },
  {
   "cell_type": "code",
   "execution_count": 40,
   "metadata": {},
   "outputs": [
    {
     "data": {
      "text/plain": [
       "4.0    2747\n",
       "NaN    1514\n",
       "6.0    1222\n",
       "3.0     173\n",
       "8.0      95\n",
       "5.0      38\n",
       "Name: 기통, dtype: int64"
      ]
     },
     "execution_count": 40,
     "metadata": {},
     "output_type": "execute_result"
    }
   ],
   "source": [
    "x_test['기통'].value_counts(dropna = False)"
   ]
  },
  {
   "cell_type": "code",
   "execution_count": 41,
   "metadata": {},
   "outputs": [
    {
     "data": {
      "text/plain": [
       "4.0    3747\n",
       "6.0    1646\n",
       "3.0     222\n",
       "8.0     127\n",
       "5.0      47\n",
       "Name: 기통, dtype: int64"
      ]
     },
     "execution_count": 41,
     "metadata": {},
     "output_type": "execute_result"
    }
   ],
   "source": [
    "x_test['기통'].fillna(method='bfill',inplace = True)\n",
    "# 기통 NAN -> NAN 바로 앞 값으로 치환\n",
    "x_test['기통'].value_counts(dropna = False) "
   ]
  },
  {
   "cell_type": "code",
   "execution_count": 42,
   "metadata": {},
   "outputs": [
    {
     "name": "stdout",
     "output_type": "stream",
     "text": [
      "RandomForestRegressor(n_estimators=1500, random_state=500)\n"
     ]
    }
   ],
   "source": [
    "rfr = RandomForestRegressor(n_estimators=1500,random_state=500)\n",
    "rfr.fit(x_train,y_train)\n",
    "print(rfr)\n",
    "#print('Train datss Accuracy : ', format(rfr.score(x_train,y_train)))"
   ]
  },
  {
   "cell_type": "code",
   "execution_count": 43,
   "metadata": {},
   "outputs": [
    {
     "data": {
      "text/plain": [
       "array(['가격', '구동방식_AWD', '구동방식_FF', '구동방식_FR', '구동방식_MR', '구동방식_RR', '기통',\n",
       "       '모델명_EHLC', '모델명_FNS', '모델명_GM대우', '모델명_JS', '모델명_JY', '모델명_KCM',\n",
       "       '모델명_LM', '모델명_MIRAGE', '모델명_MVP', '모델명_PINKAR', '모델명_거화',\n",
       "       '모델명_경인', '모델명_글로밴', '모델명_기아', '모델명_나르미', '모델명_다솜', '모델명_다온',\n",
       "       '모델명_다온포스', '모델명_대우', '모델명_대한', '모델명_동아', '모델명_두성', '모델명_듀오탑',\n",
       "       '모델명_드비앙', '모델명_라헬', '모델명_레이모', '모델명_렉스온', '모델명_로드윈', '모델명_르노삼성',\n",
       "       '모델명_맥스', '모델명_맥스리무진', '모델명_메이저', '모델명_모빌', '모델명_모터라이프', '모델명_바나나',\n",
       "       '모델명_밴텍', '모델명_밴텍R', '모델명_밴텍아톰', '모델명_벤텍', '모델명_벤텍R', '모델명_비에프엘',\n",
       "       '모델명_삼일', '모델명_새한', '모델명_샤크', '모델명_서광', '모델명_성우', '모델명_세렌디피티',\n",
       "       '모델명_세정', '모델명_세정에포스캠핑카', '모델명_세진', '모델명_쉐보레', '모델명_스내일',\n",
       "       '모델명_스타라인', '모델명_스타렉스', '모델명_스타모빌', '모델명_스타캠프', '모델명_스페이스',\n",
       "       '모델명_신광수인', '모델명_신화', '모델명_쌍용', '모델명_씨맥스', '모델명_씨티', '모델명_아리아모빌',\n",
       "       '모델명_아트원', '모델명_애드카티브이', '모델명_어울림모터스', '모델명_에드윈', '모델명_에어밴',\n",
       "       '모델명_에이스', '모델명_에이스캠퍼', '모델명_영남', '모델명_오딧', '모델명_오딧세이', '모델명_오텍',\n",
       "       '모델명_오토', '모델명_오토캠프', '모델명_오페라', '모델명_우주', '모델명_위크캠프', '모델명_유니버스',\n",
       "       '모델명_유로스타', '모델명_유림', '모델명_익스플로러', '모델명_자동차시대', '모델명_정립',\n",
       "       '모델명_정박형', '모델명_제네시스', '모델명_제일모빌', '모델명_지바', '모델명_지안', '모델명_창림',\n",
       "       '모델명_카라원', '모델명_카스오토', '모델명_카인드', '모델명_카인드아크', '모델명_카인드아크코리아',\n",
       "       '모델명_캠핑나드리', '모델명_캠핑나들이', '모델명_캠핑스토리', '모델명_캠핑카', '모델명_캠핑카마스터',\n",
       "       '모델명_컴바이컴', '모델명_케이씨', '모델명_케이씨노블', '모델명_케이씨모터스', '모델명_케이원',\n",
       "       '모델명_코반', '모델명_타이어프로', '모델명_타임에스', '모델명_팀', '모델명_프리미엄', '모델명_하이렉스',\n",
       "       '모델명_한신', '모델명_한울', '모델명_현대', '모델명_홍성', '모델명_화이트', '모델명_힐랜더',\n",
       "       '연료_LPG', '연료_LPG+전기', '연료_가솔린', '연료_가솔린+전기', '연료_가솔린/CNG겸용',\n",
       "       '연료_가솔린/LPG겸용', '연료_기타', '연료_디젤', '연료_수소', '연료_전기', '연식', '주행거리',\n",
       "       '최대출력', '최대토크'], dtype='<U12')"
      ]
     },
     "execution_count": 43,
     "metadata": {},
     "output_type": "execute_result"
    }
   ],
   "source": [
    "np.unique(list(clean_data))"
   ]
  },
  {
   "cell_type": "code",
   "execution_count": 44,
   "metadata": {},
   "outputs": [
    {
     "data": {
      "text/plain": [
       "array(['구동방식_AWD', '구동방식_FF', '구동방식_FR', '구동방식_MR', '기통', '모델명_LM',\n",
       "       '모델명_MIRAGE', '모델명_MVP', '모델명_글로밴', '모델명_기아', '모델명_다온', '모델명_대우',\n",
       "       '모델명_두성', '모델명_듀오탑', '모델명_렉스온', '모델명_르노삼성', '모델명_맥스', '모델명_맥스리무진',\n",
       "       '모델명_모빌', '모델명_바나나', '모델명_밴텍', '모델명_밴텍R', '모델명_벤텍', '모델명_삼일',\n",
       "       '모델명_샤크', '모델명_서광', '모델명_세렌디피티', '모델명_세정', '모델명_세정에포스캠핑카',\n",
       "       '모델명_쉐보레', '모델명_스내일', '모델명_스타모빌', '모델명_신화', '모델명_쌍용', '모델명_씨맥스',\n",
       "       '모델명_아트원', '모델명_애드카티브이', '모델명_어울림모터스', '모델명_에드윈', '모델명_에어밴',\n",
       "       '모델명_에이스캠퍼', '모델명_오딧세이', '모델명_오토', '모델명_오토캠프', '모델명_오페라',\n",
       "       '모델명_자동차시대', '모델명_제네시스', '모델명_제일모빌', '모델명_지바', '모델명_창림', '모델명_카인드',\n",
       "       '모델명_카인드아크코리아', '모델명_캠핑나드리', '모델명_캠핑나들이', '모델명_케이씨', '모델명_케이씨모터스',\n",
       "       '모델명_케이원', '모델명_타임에스', '모델명_한신', '모델명_한울', '모델명_현대', '모델명_화이트',\n",
       "       '연료_LPG', '연료_LPG+전기', '연료_가솔린', '연료_가솔린+전기', '연료_가솔린/CNG겸용',\n",
       "       '연료_가솔린/LPG겸용', '연료_기타', '연료_디젤', '연료_전기', '연식', '주행거리', '최대출력',\n",
       "       '최대토크'], dtype='<U12')"
      ]
     },
     "execution_count": 44,
     "metadata": {},
     "output_type": "execute_result"
    }
   ],
   "source": [
    "np.unique(list(clean_test))"
   ]
  },
  {
   "cell_type": "code",
   "execution_count": 45,
   "metadata": {},
   "outputs": [],
   "source": [
    "y_predict = rfr.predict(x_test)"
   ]
  },
  {
   "cell_type": "code",
   "execution_count": 46,
   "metadata": {},
   "outputs": [
    {
     "data": {
      "text/plain": [
       "array([8400.79409524, 1213.80599658, 1175.15100476, ...,  428.60023978,\n",
       "       1348.20816765, 3841.21267119])"
      ]
     },
     "execution_count": 46,
     "metadata": {},
     "output_type": "execute_result"
    }
   ],
   "source": [
    "y_predict"
   ]
  },
  {
   "cell_type": "code",
   "execution_count": 47,
   "metadata": {},
   "outputs": [
    {
     "data": {
      "text/html": [
       "<div>\n",
       "<style scoped>\n",
       "    .dataframe tbody tr th:only-of-type {\n",
       "        vertical-align: middle;\n",
       "    }\n",
       "\n",
       "    .dataframe tbody tr th {\n",
       "        vertical-align: top;\n",
       "    }\n",
       "\n",
       "    .dataframe thead th {\n",
       "        text-align: right;\n",
       "    }\n",
       "</style>\n",
       "<table border=\"1\" class=\"dataframe\">\n",
       "  <thead>\n",
       "    <tr style=\"text-align: right;\">\n",
       "      <th></th>\n",
       "      <th>no</th>\n",
       "      <th>가격(만원)</th>\n",
       "    </tr>\n",
       "  </thead>\n",
       "  <tbody>\n",
       "    <tr>\n",
       "      <th>0</th>\n",
       "      <td>11769</td>\n",
       "      <td>8400.794095</td>\n",
       "    </tr>\n",
       "    <tr>\n",
       "      <th>1</th>\n",
       "      <td>11770</td>\n",
       "      <td>1213.805997</td>\n",
       "    </tr>\n",
       "    <tr>\n",
       "      <th>2</th>\n",
       "      <td>11771</td>\n",
       "      <td>1175.151005</td>\n",
       "    </tr>\n",
       "    <tr>\n",
       "      <th>3</th>\n",
       "      <td>11772</td>\n",
       "      <td>692.141326</td>\n",
       "    </tr>\n",
       "    <tr>\n",
       "      <th>4</th>\n",
       "      <td>11773</td>\n",
       "      <td>793.587821</td>\n",
       "    </tr>\n",
       "    <tr>\n",
       "      <th>...</th>\n",
       "      <td>...</td>\n",
       "      <td>...</td>\n",
       "    </tr>\n",
       "    <tr>\n",
       "      <th>5784</th>\n",
       "      <td>17553</td>\n",
       "      <td>1006.362555</td>\n",
       "    </tr>\n",
       "    <tr>\n",
       "      <th>5785</th>\n",
       "      <td>17554</td>\n",
       "      <td>1478.938100</td>\n",
       "    </tr>\n",
       "    <tr>\n",
       "      <th>5786</th>\n",
       "      <td>17555</td>\n",
       "      <td>428.600240</td>\n",
       "    </tr>\n",
       "    <tr>\n",
       "      <th>5787</th>\n",
       "      <td>17556</td>\n",
       "      <td>1348.208168</td>\n",
       "    </tr>\n",
       "    <tr>\n",
       "      <th>5788</th>\n",
       "      <td>17557</td>\n",
       "      <td>3841.212671</td>\n",
       "    </tr>\n",
       "  </tbody>\n",
       "</table>\n",
       "<p>5789 rows × 2 columns</p>\n",
       "</div>"
      ],
      "text/plain": [
       "         no       가격(만원)\n",
       "0     11769  8400.794095\n",
       "1     11770  1213.805997\n",
       "2     11771  1175.151005\n",
       "3     11772   692.141326\n",
       "4     11773   793.587821\n",
       "...     ...          ...\n",
       "5784  17553  1006.362555\n",
       "5785  17554  1478.938100\n",
       "5786  17555   428.600240\n",
       "5787  17556  1348.208168\n",
       "5788  17557  3841.212671\n",
       "\n",
       "[5789 rows x 2 columns]"
      ]
     },
     "execution_count": 47,
     "metadata": {},
     "output_type": "execute_result"
    }
   ],
   "source": [
    "rpre = pd.DataFrame({'no':list(dummy_test.no),'가격(만원)':list(y_predict)})\n",
    "rpre"
   ]
  },
  {
   "cell_type": "code",
   "execution_count": 48,
   "metadata": {},
   "outputs": [],
   "source": [
    "rpre.to_csv('used_car5_test1.csv',index=False)"
   ]
  },
  {
   "cell_type": "code",
   "execution_count": null,
   "metadata": {},
   "outputs": [],
   "source": []
  }
 ],
 "metadata": {
  "kernelspec": {
   "display_name": "Python 3",
   "language": "python",
   "name": "python3"
  },
  "language_info": {
   "codemirror_mode": {
    "name": "ipython",
    "version": 3
   },
   "file_extension": ".py",
   "mimetype": "text/x-python",
   "name": "python",
   "nbconvert_exporter": "python",
   "pygments_lexer": "ipython3",
   "version": "3.8.3"
  }
 },
 "nbformat": 4,
 "nbformat_minor": 4
}
